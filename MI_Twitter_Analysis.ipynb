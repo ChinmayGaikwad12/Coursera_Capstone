{
  "nbformat": 4,
  "nbformat_minor": 0,
  "metadata": {
    "colab": {
      "name": "MI Twitter Analysis.ipynb",
      "provenance": [],
      "collapsed_sections": [],
      "toc_visible": true,
      "authorship_tag": "ABX9TyM7fyhXKwZW2XtLn2F+ecr9",
      "include_colab_link": true
    },
    "kernelspec": {
      "name": "python3",
      "display_name": "Python 3"
    }
  },
  "cells": [
    {
      "cell_type": "markdown",
      "metadata": {
        "id": "view-in-github",
        "colab_type": "text"
      },
      "source": [
        "<a href=\"https://colab.research.google.com/github/GaikwadChinmay/Coursera-capstone-project/blob/master/MI_Twitter_Analysis.ipynb\" target=\"_parent\"><img src=\"https://colab.research.google.com/assets/colab-badge.svg\" alt=\"Open In Colab\"/></a>"
      ]
    },
    {
      "cell_type": "markdown",
      "metadata": {
        "id": "QXfk9GBRw4Fh",
        "colab_type": "text"
      },
      "source": [
        ""
      ]
    },
    {
      "cell_type": "code",
      "metadata": {
        "id": "SwMzr4hGjo1_",
        "colab_type": "code",
        "colab": {}
      },
      "source": [
        "import os\n",
        "import tweepy as tw\n",
        "import pandas as pd"
      ],
      "execution_count": null,
      "outputs": []
    },
    {
      "cell_type": "markdown",
      "metadata": {
        "id": "0gMyw3RJw6Ms",
        "colab_type": "text"
      },
      "source": [
        "#Assign the API Keys "
      ]
    },
    {
      "cell_type": "code",
      "metadata": {
        "id": "d2m4cEmpvUzY",
        "colab_type": "code",
        "colab": {}
      },
      "source": [
        "consumer_key = 'IltaNIuuQvgYWoUNkui1uQVwq'\n",
        "consumer_secret = 'Hz9XhkbZjRbx87sSofderP6b47KNI9kEFWjrNAh6ys1zxdjuHn'\n",
        "access_token = '439123816-q1KLMxaOrdCpbMIi0IPZOcfiOsy2GL4YhTbqJBqn'\n",
        "access_token_secret = 'zD3qVDS5AZYjfZSr7p4YDOVrKjBLjJprg8RAqg4kGesLJ'"
      ],
      "execution_count": null,
      "outputs": []
    },
    {
      "cell_type": "code",
      "metadata": {
        "id": "zauxsIyxkFQS",
        "colab_type": "code",
        "colab": {}
      },
      "source": [
        "auth = tw.OAuthHandler(consumer_key, consumer_secret)\n",
        "auth.set_access_token(access_token, access_token_secret)\n",
        "api = tw.API(auth, wait_on_rate_limit=True)"
      ],
      "execution_count": null,
      "outputs": []
    },
    {
      "cell_type": "markdown",
      "metadata": {
        "id": "NBYTbK-FoVWV",
        "colab_type": "text"
      },
      "source": [
        "## Twitter API only allows you to access the past few weeks of tweets, so you cannot dig into the history too far."
      ]
    },
    {
      "cell_type": "code",
      "metadata": {
        "id": "Ezt86voCoZzw",
        "colab_type": "code",
        "colab": {}
      },
      "source": [
        "# Define the search term and the date_since date as variables\n",
        "search_words = [\"#Xiaomi\", 'Xiaomi', 'Mi', '#Mi'] \n",
        "date_since = \"2020-09-01\""
      ],
      "execution_count": 44,
      "outputs": []
    },
    {
      "cell_type": "code",
      "metadata": {
        "id": "mFdEWKfaurZi",
        "colab_type": "code",
        "colab": {
          "base_uri": "https://localhost:8080/",
          "height": 34
        },
        "outputId": "841a81d5-b8ff-4695-dabb-05d55c74056f"
      },
      "source": [
        "# Collect tweets\n",
        "tweets = tw.Cursor(api.search,\n",
        "              q= search_words,\n",
        "              lang=\"en\",\n",
        "              since=date_since).items(5)\n",
        "tweets\n"
      ],
      "execution_count": null,
      "outputs": [
        {
          "output_type": "execute_result",
          "data": {
            "text/plain": [
              "<tweepy.cursor.ItemIterator at 0x7f786dfd2748>"
            ]
          },
          "metadata": {
            "tags": []
          },
          "execution_count": 22
        }
      ]
    },
    {
      "cell_type": "code",
      "metadata": {
        "id": "GgTQKrr9wET2",
        "colab_type": "code",
        "colab": {}
      },
      "source": [
        "# Collect tweets\n",
        "tweets = tw.Cursor(api.search,\n",
        "                       q=search_words,\n",
        "                       lang=\"en\",\n",
        "                       since=date_since).items(5)\n",
        "\n",
        "# Collect a list of tweets\n",
        "data_tweets = [tweet.text for tweet in tweets]\n",
        "\n",
        "df_tweets = pd.DataFrame(data = data_tweets)"
      ],
      "execution_count": null,
      "outputs": []
    },
    {
      "cell_type": "code",
      "metadata": {
        "id": "O3EwHFdX0pVz",
        "colab_type": "code",
        "colab": {
          "base_uri": "https://localhost:8080/",
          "height": 204
        },
        "outputId": "d95c69f1-818a-4e07-8457-42b5604710a1"
      },
      "source": [
        "df_tweets"
      ],
      "execution_count": null,
      "outputs": [
        {
          "output_type": "execute_result",
          "data": {
            "text/html": [
              "<div>\n",
              "<style scoped>\n",
              "    .dataframe tbody tr th:only-of-type {\n",
              "        vertical-align: middle;\n",
              "    }\n",
              "\n",
              "    .dataframe tbody tr th {\n",
              "        vertical-align: top;\n",
              "    }\n",
              "\n",
              "    .dataframe thead th {\n",
              "        text-align: right;\n",
              "    }\n",
              "</style>\n",
              "<table border=\"1\" class=\"dataframe\">\n",
              "  <thead>\n",
              "    <tr style=\"text-align: right;\">\n",
              "      <th></th>\n",
              "      <th>0</th>\n",
              "    </tr>\n",
              "  </thead>\n",
              "  <tbody>\n",
              "    <tr>\n",
              "      <th>0</th>\n",
              "      <td>RT @stufflistings: Mi True Wireless Earphones ...</td>\n",
              "    </tr>\n",
              "    <tr>\n",
              "      <th>1</th>\n",
              "      <td>Confused between the so many phones, check out...</td>\n",
              "    </tr>\n",
              "    <tr>\n",
              "      <th>2</th>\n",
              "      <td>#Mi10Tpro renders \\n\\n#xiaomi #mi #mi10t #mi10...</td>\n",
              "    </tr>\n",
              "    <tr>\n",
              "      <th>3</th>\n",
              "      <td>Redmi Note 10 leaked render shows this design ...</td>\n",
              "    </tr>\n",
              "    <tr>\n",
              "      <th>4</th>\n",
              "      <td>Useful!\\n\\n#xiaomi #mitv #mi https://t.co/IQl3...</td>\n",
              "    </tr>\n",
              "  </tbody>\n",
              "</table>\n",
              "</div>"
            ],
            "text/plain": [
              "                                                   0\n",
              "0  RT @stufflistings: Mi True Wireless Earphones ...\n",
              "1  Confused between the so many phones, check out...\n",
              "2  #Mi10Tpro renders \\n\\n#xiaomi #mi #mi10t #mi10...\n",
              "3  Redmi Note 10 leaked render shows this design ...\n",
              "4  Useful!\\n\\n#xiaomi #mitv #mi https://t.co/IQl3..."
            ]
          },
          "metadata": {
            "tags": []
          },
          "execution_count": 24
        }
      ]
    },
    {
      "cell_type": "code",
      "metadata": {
        "id": "QfWaA_YivJpd",
        "colab_type": "code",
        "colab": {}
      },
      "source": [
        "new_search = 'xioami'"
      ],
      "execution_count": null,
      "outputs": []
    },
    {
      "cell_type": "code",
      "metadata": {
        "id": "t0iYYV2Iu74q",
        "colab_type": "code",
        "colab": {
          "base_uri": "https://localhost:8080/",
          "height": 1000
        },
        "outputId": "e824c464-17c7-4886-9ac2-f1be9983d5f6"
      },
      "source": [
        "tweets = tw.Cursor(api.search, \n",
        "                           q=search_words,\n",
        "                           lang=\"en\",\n",
        "                           since=date_since).items(100)\n",
        "\n",
        "users_locs = [[tweet.text, tweet.user.screen_name, tweet.user.location] for tweet in tweets]\n",
        "users_locs"
      ],
      "execution_count": 45,
      "outputs": [
        {
          "output_type": "execute_result",
          "data": {
            "text/plain": [
              "[['RT @stufflistings: Mi True Wireless Earphones 2S appear on the Indonesia Telecom certification website.\\n#Xiaomi #Mi https://t.co/96dJTb1SOC',\n",
              "  'VishistPratap',\n",
              "  'Lucknow, India'],\n",
              " ['Confused between the so many phones, check out our post \\n\\nhttps://t.co/51iUFyYM1B\\n.\\n.\\n.\\n.\\n.\\n.\\n#poco\\n#xiaomi… https://t.co/9DPBtQCV0i',\n",
              "  'Mining4Tech',\n",
              "  'Lucknow'],\n",
              " ['#Mi10Tpro renders \\n\\n#xiaomi #mi #mi10t #mi10Tseries https://t.co/9FxukTTGEL',\n",
              "  'Mobiledott',\n",
              "  ''],\n",
              " [\"Redmi Note 10 leaked render shows this design and It's expected to feature MediaTek Dimensity 820 SoC with 8GB of R… https://t.co/igzvFaJNK3\",\n",
              "  'Phone_infor',\n",
              "  ''],\n",
              " ['Useful!\\n\\n#xiaomi #mitv #mi https://t.co/IQl3YBN7Ry',\n",
              "  'omiazad',\n",
              "  'Bangladesh'],\n",
              " ['Reserve a red piece for me - i am going to buy it in my coming trip to #Beijing soon!.\\n\\n#Xiaomi #Mi @manukumarjain https://t.co/xqa41MEspI',\n",
              "  'raghavan1314',\n",
              "  'Bengaluru, India & Beijing,PRC'],\n",
              " ['Smartphones are going back with the hardware 🤔\\n\\nFollow us @DevsKrate 🔥 for more interesting stuff..\\n#china #India… https://t.co/0tYf4YUjGb',\n",
              "  'DevsKrate',\n",
              "  ''],\n",
              " ['MI 10T Pro 5G Official Render image.\\n#Mi10TPro5G #Mi #Mi10TPro #Xiaomi https://t.co/fp2VzLF8Ox',\n",
              "  'techie_tech1',\n",
              "  'India'],\n",
              " ['RT @manukumarjain: Honoured to be among top 100 #Business leaders in #Asia - @businessinsider. 🙏\\n\\nInspiring to read about all the amazing e…',\n",
              "  'Tusharj25361492',\n",
              "  ''],\n",
              " ['108 MP Camera &amp; 5G support on coming #Mi10TPro\\nCheck Leaks Pics 🔥\\n#MI10  #redmi #technews #leaks #mi #Xiaomi https://t.co/ArWfPsLu5a',\n",
              "  'fresh_founder',\n",
              "  'I am an Offsider'],\n",
              " ['Shot on redmi phone #RedmiNote7Pro #redmi #mi #Xiaomi https://t.co/5ui3Bw7htp',\n",
              "  'MusharafAlom3',\n",
              "  ''],\n",
              " ['RT @manukumarjain: Honoured to be among top 100 #Business leaders in #Asia - @businessinsider. 🙏\\n\\nInspiring to read about all the amazing e…',\n",
              "  'sanalmobiles',\n",
              "  'new delhi'],\n",
              " [\"Xiaomi Nepal's Official Facebook page has shared a new teaser poster which hints that the company is all set to unv… https://t.co/Bh07FiGs15\",\n",
              "  'techsathinp',\n",
              "  'Nepal'],\n",
              " ['Everyone are interested in Jio\\n\\nFollow us @DevsKrate 🔥 for more interesting stuff..\\n#china #India #banchina… https://t.co/ANL3YRIZRt',\n",
              "  'DevsKrate',\n",
              "  ''],\n",
              " ['RT @manukumarjain: Honoured to be among top 100 #Business leaders in #Asia - @businessinsider. 🙏\\n\\nInspiring to read about all the amazing e…',\n",
              "  'MaazShaikh0007',\n",
              "  'India'],\n",
              " ['RT @manukumarjain: Honoured to be among top 100 #Business leaders in #Asia - @businessinsider. 🙏\\n\\nInspiring to read about all the amazing e…',\n",
              "  'salmankmulla',\n",
              "  'islampur,maharashtra'],\n",
              " ['#Xiaomi upcoming #TWS will be name as #Mi Air 2 Pro : confirmed\\n\\n#MiAir2pro\\n#Air2pro\\nIndia Launch imminent.... https://t.co/f39q6lKBVE',\n",
              "  'guglani_paras',\n",
              "  'india'],\n",
              " ['Xiaomi now allows heart rate detection through the camera using Mi Fit app.\\n👉🏻 It can measure your heart rate using… https://t.co/iUVGJjolmJ',\n",
              "  'Tech_Saala',\n",
              "  'Bengaluru, India'],\n",
              " ['All I want now is #Mi #Eco Active Underwear which is breathable, sweat-absorbent, and skin-friendly.\\n\\n#Xiaomi… https://t.co/C47IwoWCwk',\n",
              "  'khanhaider',\n",
              "  'New Delhi, India'],\n",
              " ['RT @DevsKrate: Android 11 new features😍\\n\\nFollow us @DevsKrate 🔥 for more interesting stuff..\\n#Android #china #India #banchina #youtube #pub…',\n",
              "  'charlie98087298',\n",
              "  ''],\n",
              " ['Android 11 new features😍\\n\\nFollow us @DevsKrate 🔥 for more interesting stuff..\\n#Android #china #India #banchina… https://t.co/LAwVeO3rCa',\n",
              "  'DevsKrate',\n",
              "  ''],\n",
              " ['RT @Poorvika_Mobile: Shape your Beard On the go with Mi Beard Trimmers which gives up to 60min of Runtime.\\nOrder Online &amp; Get it at your Do…',\n",
              "  'SOUNDAR57748724',\n",
              "  ''],\n",
              " ['RT @manukumarjain: Honoured to be among top 100 #Business leaders in #Asia - @businessinsider. 🙏\\n\\nInspiring to read about all the amazing e…',\n",
              "  'sktaufiq212',\n",
              "  ''],\n",
              " ['MI launch Redmi Smart Brand in India. 🔥\\n\\nRedmi Smart Band features and impressive LCD color touch screen for added… https://t.co/uEG5gnP8QA',\n",
              "  'techtofacts',\n",
              "  'Himachal Pradesh, India'],\n",
              " ['RT @Poorvika_Mobile: Shape your Beard On the go with Mi Beard Trimmers which gives up to 60min of Runtime.\\nOrder Online &amp; Get it at your Do…',\n",
              "  'AkashTa44535221',\n",
              "  ''],\n",
              " ['Do we need a phone of that cost. We can get a very good laptop with a good SSD.\\nComment your opinion below..\\n\\nFollo… https://t.co/0FvjQnObeJ',\n",
              "  'DevsKrate',\n",
              "  ''],\n",
              " ['RT @Poorvika_Mobile: Shape your Beard On the go with Mi Beard Trimmers which gives up to 60min of Runtime.\\nOrder Online &amp; Get it at your Do…',\n",
              "  'JsJaiprakash',\n",
              "  ''],\n",
              " ['RT @manukumarjain: 🥇No. 1 #Online #Smartphone Brand for 4⃣ years! \\U0001f973\\n\\nProud to share: @XiaomiIndia continues to remain #1 online brand in #I…',\n",
              "  'Rahul24287105',\n",
              "  ''],\n",
              " ['RT @Poorvika_Mobile: Shape your Beard On the go with Mi Beard Trimmers which gives up to 60min of Runtime.\\nOrder Online &amp; Get it at your Do…',\n",
              "  'KumaraD00272900',\n",
              "  ''],\n",
              " ['RT @Poorvika_Mobile: Stop scrolling up and catch the amazing offers on the popular #Xiaomi smartphones at your nearest Poorvika Mobiles Sto…',\n",
              "  'Santhos23450071',\n",
              "  ''],\n",
              " ['RT @Poorvika_Mobile: Shape your Beard On the go with Mi Beard Trimmers which gives up to 60min of Runtime.\\nOrder Online &amp; Get it at your Do…',\n",
              "  'Kishanp44817624',\n",
              "  ''],\n",
              " ['RT @Poorvika_Mobile: Shape your Beard On the go with Mi Beard Trimmers which gives up to 60min of Runtime.\\nOrder Online &amp; Get it at your Do…',\n",
              "  'Vijayganesn1',\n",
              "  ''],\n",
              " ['25K for a 730G chipset🙄. \\nWhat do you guys think of it.\\nOfcourse, 7000mAh and oneUI..\\n\\nhttps://t.co/D2lf24KHR0\\n\\nFol… https://t.co/hf6z2jD54U',\n",
              "  'DevsKrate',\n",
              "  ''],\n",
              " ['RT @NeutralOdisha: @IndiaToday boycot Chinese phones !!!\\n#OnePlus #Vivo #Oppo #Xiaomi #Mi',\n",
              "  '_mukesh235',\n",
              "  ''],\n",
              " ['RT @manukumarjain: Honoured to be among top 100 #Business leaders in #Asia - @businessinsider. 🙏\\n\\nInspiring to read about all the amazing e…',\n",
              "  'VinodMNagwanshi',\n",
              "  'Madhya Pradesh, India'],\n",
              " ['RT @manukumarjain: Honoured to be among top 100 #Business leaders in #Asia - @businessinsider. 🙏\\n\\nInspiring to read about all the amazing e…',\n",
              "  'Faizal22993445',\n",
              "  'Kollam'],\n",
              " ['RT @manukumarjain: Honoured to be among top 100 #Business leaders in #Asia - @businessinsider. 🙏\\n\\nInspiring to read about all the amazing e…',\n",
              "  'bidani_khan',\n",
              "  'gujrat'],\n",
              " ['What are your opinions, comment below..\\n\\nFollow @DevsKrate 🔥 for interesting stuff..\\n#China #India #YouTuber #PUBG… https://t.co/B1tweHHOms',\n",
              "  'DevsKrate',\n",
              "  ''],\n",
              " ['@manukumarjain @businessinsider @XiaomiIndia @RedmiIndia Congratulations\\n#Xiaomi #India\\nI❤️ #Mi',\n",
              "  'sampathmadurai',\n",
              "  'MADURAI'],\n",
              " ['RT @manukumarjain: Honoured to be among top 100 #Business leaders in #Asia - @businessinsider. 🙏\\n\\nInspiring to read about all the amazing e…',\n",
              "  'Jm29813Joydip',\n",
              "  'West Bengal, India'],\n",
              " ['RT @SnehaTainwala: Happy to share, as per latest @CounterPointTR report #Mi.com is once again:\\n\\n🏆 3⃣rd largest e-commerce platform in #Indi…',\n",
              "  'arvindbtal',\n",
              "  ''],\n",
              " ['RT @manukumarjain: Honoured to be among top 100 #Business leaders in #Asia - @businessinsider. 🙏\\n\\nInspiring to read about all the amazing e…',\n",
              "  'arvindbtal',\n",
              "  ''],\n",
              " ['RT @manukumarjain: \"#Redmi9Prime: Take a bow, #Xiaomi.\\n\\n#Redmi 9⃣ #Prime is one of the best phones you can buy at ₹10,000. Xiaomi ticks all…',\n",
              "  'arvindbtal',\n",
              "  ''],\n",
              " ['RT @manukumarjain: Honoured to be among top 100 #Business leaders in #Asia - @businessinsider. 🙏\\n\\nInspiring to read about all the amazing e…',\n",
              "  'baluvysya7',\n",
              "  'Srikakulam, AP India.'],\n",
              " ['Xiaomi now allows heart rate detection through the camera\\nhttps://t.co/TGAIWDvTCR\\n#rate #youll #allows #health #mi… https://t.co/9QZ3MtzruC',\n",
              "  'SoVibesApp',\n",
              "  ''],\n",
              " ['@IndiaToday boycot Chinese phones !!!\\n#OnePlus #Vivo #Oppo #Xiaomi #Mi',\n",
              "  'NeutralOdisha',\n",
              "  'Odisha'],\n",
              " ['RT @SnehaTainwala: Happy to share, as per latest @CounterPointTR report #Mi.com is once again:\\n\\n🏆 3⃣rd largest e-commerce platform in #Indi…',\n",
              "  'Rakesh806Rakesh',\n",
              "  'Jaipur, India'],\n",
              " ['RT @manukumarjain: Honoured to be among top 100 #Business leaders in #Asia - @businessinsider. 🙏\\n\\nInspiring to read about all the amazing e…',\n",
              "  'sawan46260886',\n",
              "  ''],\n",
              " ['RT @AnkitSh94046905: @MiIndiaSupport @Avnishs52693529 #fraudbible #liar #Cheater #Xiaomi #Redmi9 #redmi9a #Mi goback to your country #china',\n",
              "  'SirttOfficial',\n",
              "  'New Delhi, India'],\n",
              " ['RT @Priyank36375376: @Avnishs52693529 @manukumarjain @XiaomiIndia #Xiaomi #redmi9a #Mi what is this, are you spreading shit in India like #…',\n",
              "  'SirttOfficial',\n",
              "  'New Delhi, India'],\n",
              " ['RT @manukumarjain: Honoured to be among top 100 #Business leaders in #Asia - @businessinsider. 🙏\\n\\nInspiring to read about all the amazing e…',\n",
              "  'mohanathan81',\n",
              "  'Chennai,TN, India'],\n",
              " ['Xiaomi can you see this . Really what the hell is this? #Xiaomi #miinida #minote7pro #mi #explain @XiaomiIndia… https://t.co/xg7lMin9dG',\n",
              "  'na_pinku',\n",
              "  ''],\n",
              " ['RT @manukumarjain: Honoured to be among top 100 #Business leaders in #Asia - @businessinsider. 🙏\\n\\nInspiring to read about all the amazing e…',\n",
              "  'DeyArjo',\n",
              "  ''],\n",
              " ['RT @manukumarjain: Honoured to be among top 100 #Business leaders in #Asia - @businessinsider. 🙏\\n\\nInspiring to read about all the amazing e…',\n",
              "  'ignousam',\n",
              "  'New Delhi, India'],\n",
              " ['RT @manukumarjain: Honoured to be among top 100 #Business leaders in #Asia - @businessinsider. 🙏\\n\\nInspiring to read about all the amazing e…',\n",
              "  'Dan_El_Austin',\n",
              "  'Cochin, India'],\n",
              " ['RT @manukumarjain: Honoured to be among top 100 #Business leaders in #Asia - @businessinsider. 🙏\\n\\nInspiring to read about all the amazing e…',\n",
              "  'NARESH_48',\n",
              "  ''],\n",
              " ['RT @manukumarjain: Honoured to be among top 100 #Business leaders in #Asia - @businessinsider. 🙏\\n\\nInspiring to read about all the amazing e…',\n",
              "  'KunduDebargho',\n",
              "  ''],\n",
              " ['RT @manukumarjain: Honoured to be among top 100 #Business leaders in #Asia - @businessinsider. 🙏\\n\\nInspiring to read about all the amazing e…',\n",
              "  'Rakesh806Rakesh',\n",
              "  'Jaipur, India'],\n",
              " ['RT @manukumarjain: Honoured to be among top 100 #Business leaders in #Asia - @businessinsider. 🙏\\n\\nInspiring to read about all the amazing e…',\n",
              "  'AlaguJonas',\n",
              "  ''],\n",
              " ['Buy latest and trendy phones @Navpreet_R \\n#oppo #samsung #vivo #iphone #xiaomi #realme #pro #oppoa #huawei #asus #s… https://t.co/rCzG8YpJ3q',\n",
              "  'Navpreet_R',\n",
              "  'New Delhi, India'],\n",
              " ['RT @manukumarjain: Honoured to be among top 100 #Business leaders in #Asia - @businessinsider. 🙏\\n\\nInspiring to read about all the amazing e…',\n",
              "  'sree_1179',\n",
              "  'Hyderabad, India'],\n",
              " ['RT @manukumarjain: Honoured to be among top 100 #Business leaders in #Asia - @businessinsider. 🙏\\n\\nInspiring to read about all the amazing e…',\n",
              "  'Madan_Varun',\n",
              "  'Bengaluru, India'],\n",
              " ['RT @manukumarjain: Honoured to be among top 100 #Business leaders in #Asia - @businessinsider. 🙏\\n\\nInspiring to read about all the amazing e…',\n",
              "  'Rrv_06',\n",
              "  'Bangalore,India'],\n",
              " ['RT @manukumarjain: Honoured to be among top 100 #Business leaders in #Asia - @businessinsider. 🙏\\n\\nInspiring to read about all the amazing e…',\n",
              "  'iamrajeshrana',\n",
              "  'Mahadevapura, Bengaluru South'],\n",
              " ['RT @manukumarjain: Honoured to be among top 100 #Business leaders in #Asia - @businessinsider. 🙏\\n\\nInspiring to read about all the amazing e…',\n",
              "  'shanulankalapa1',\n",
              "  ''],\n",
              " ['RT @SnehaTainwala: Happy to share, as per latest @CounterPointTR report #Mi.com is once again:\\n\\n🏆 3⃣rd largest e-commerce platform in #Indi…',\n",
              "  'ananthnani',\n",
              "  'Bengaluru, India'],\n",
              " ['RT @manukumarjain: Honoured to be among top 100 #Business leaders in #Asia - @businessinsider. 🙏\\n\\nInspiring to read about all the amazing e…',\n",
              "  'mahnot_nishant',\n",
              "  'Siliguri, West Bengal'],\n",
              " ['RT @manukumarjain: Honoured to be among top 100 #Business leaders in #Asia - @businessinsider. 🙏\\n\\nInspiring to read about all the amazing e…',\n",
              "  'rvii_dahiya',\n",
              "  'Sonipat, India'],\n",
              " ['RT @manukumarjain: Honoured to be among top 100 #Business leaders in #Asia - @businessinsider. 🙏\\n\\nInspiring to read about all the amazing e…',\n",
              "  'CAPTAIN08599299',\n",
              "  ''],\n",
              " ['RT @manukumarjain: Honoured to be among top 100 #Business leaders in #Asia - @businessinsider. 🙏\\n\\nInspiring to read about all the amazing e…',\n",
              "  'pankajsingh630',\n",
              "  'Deoghar, India'],\n",
              " ['RT @manukumarjain: Honoured to be among top 100 #Business leaders in #Asia - @businessinsider. 🙏\\n\\nInspiring to read about all the amazing e…',\n",
              "  'jdeepak59',\n",
              "  'Delhi, India'],\n",
              " ['RT @manukumarjain: Honoured to be among top 100 #Business leaders in #Asia - @businessinsider. 🙏\\n\\nInspiring to read about all the amazing e…',\n",
              "  'mifanshyd',\n",
              "  'Hyderabad'],\n",
              " ['RT @manukumarjain: Honoured to be among top 100 #Business leaders in #Asia - @businessinsider. 🙏\\n\\nInspiring to read about all the amazing e…',\n",
              "  'RashmiT8132',\n",
              "  'कर्नाटक, भारत'],\n",
              " ['RT @manukumarjain: Honoured to be among top 100 #Business leaders in #Asia - @businessinsider. 🙏\\n\\nInspiring to read about all the amazing e…',\n",
              "  'Pal66548548',\n",
              "  ''],\n",
              " ['RT @SnehaTainwala: Happy to share, as per latest @CounterPointTR report #Mi.com is once again:\\n\\n🏆 3⃣rd largest e-commerce platform in #Indi…',\n",
              "  'akcool88',\n",
              "  ''],\n",
              " ['RT @manukumarjain: Honoured to be among top 100 #Business leaders in #Asia - @businessinsider. 🙏\\n\\nInspiring to read about all the amazing e…',\n",
              "  'poojageeja',\n",
              "  'India'],\n",
              " ['RT @manukumarjain: Honoured to be among top 100 #Business leaders in #Asia - @businessinsider. 🙏\\n\\nInspiring to read about all the amazing e…',\n",
              "  'akcool88',\n",
              "  ''],\n",
              " ['RT @manukumarjain: Honoured to be among top 100 #Business leaders in #Asia - @businessinsider. 🙏\\n\\nInspiring to read about all the amazing e…',\n",
              "  'Ajithkumarkr8',\n",
              "  ''],\n",
              " ['RT @manukumarjain: 🥇No. 1 #Online #Smartphone Brand for 4⃣ years! \\U0001f973\\n\\nProud to share: @XiaomiIndia continues to remain #1 online brand in #I…',\n",
              "  'AbhijitMondal94',\n",
              "  'Bolpur'],\n",
              " ['RT @manukumarjain: Honoured to be among top 100 #Business leaders in #Asia - @businessinsider. 🙏\\n\\nInspiring to read about all the amazing e…',\n",
              "  'SouhardyaGhosh7',\n",
              "  'पश्चिम बंगाल, भारत'],\n",
              " ['RT @manukumarjain: Honoured to be among top 100 #Business leaders in #Asia - @businessinsider. 🙏\\n\\nInspiring to read about all the amazing e…',\n",
              "  'AbhijitMondal94',\n",
              "  'Bolpur'],\n",
              " ['#Mi Launches New Horizon Edition TV with bezel-less design and #AndroidTV.\\n.\\n.\\n.\\n#TechGalena #TechNews #Tech… https://t.co/is4NUiQ1Pd',\n",
              "  'techgalena',\n",
              "  'Mumbai, India'],\n",
              " ['RT @manukumarjain: Honoured to be among top 100 #Business leaders in #Asia - @businessinsider. 🙏\\n\\nInspiring to read about all the amazing e…',\n",
              "  'Iamnil7',\n",
              "  'West Bengal,Raniganj '],\n",
              " ['RT @manukumarjain: Honoured to be among top 100 #Business leaders in #Asia - @businessinsider. 🙏\\n\\nInspiring to read about all the amazing e…',\n",
              "  'RaviKum75193040',\n",
              "  ''],\n",
              " ['RT @manukumarjain: Honoured to be among top 100 #Business leaders in #Asia - @businessinsider. 🙏\\n\\nInspiring to read about all the amazing e…',\n",
              "  'LoserAnant',\n",
              "  'Bareilly, India'],\n",
              " ['RT @manukumarjain: Honoured to be among top 100 #Business leaders in #Asia - @businessinsider. 🙏\\n\\nInspiring to read about all the amazing e…',\n",
              "  'digsa_banna',\n",
              "  'TAMATIYA RATHORE'],\n",
              " ['RT @manukumarjain: Honoured to be among top 100 #Business leaders in #Asia - @businessinsider. 🙏\\n\\nInspiring to read about all the amazing e…',\n",
              "  'karki_dikpal',\n",
              "  'kathmandu Nepal'],\n",
              " ['RT @manukumarjain: Honoured to be among top 100 #Business leaders in #Asia - @businessinsider. 🙏\\n\\nInspiring to read about all the amazing e…',\n",
              "  'TheNameIsMukund',\n",
              "  'HUBLI,KARNATAKA.'],\n",
              " ['RT @manukumarjain: Honoured to be among top 100 #Business leaders in #Asia - @businessinsider. 🙏\\n\\nInspiring to read about all the amazing e…',\n",
              "  'MadhuChand07',\n",
              "  'Tamil Nadu, India'],\n",
              " ['RT @manukumarjain: Honoured to be among top 100 #Business leaders in #Asia - @businessinsider. 🙏\\n\\nInspiring to read about all the amazing e…',\n",
              "  'dilip5566',\n",
              "  ''],\n",
              " ['RT @manukumarjain: Honoured to be among top 100 #Business leaders in #Asia - @businessinsider. 🙏\\n\\nInspiring to read about all the amazing e…',\n",
              "  'Jugal9720',\n",
              "  'New Rajendra Nagar, New Delhi'],\n",
              " ['RT @manukumarjain: Honoured to be among top 100 #Business leaders in #Asia - @businessinsider. 🙏\\n\\nInspiring to read about all the amazing e…',\n",
              "  'SimplyAkJi',\n",
              "  ''],\n",
              " ['RT @manukumarjain: Honoured to be among top 100 #Business leaders in #Asia - @businessinsider. 🙏\\n\\nInspiring to read about all the amazing e…',\n",
              "  'MistryTanu',\n",
              "  ''],\n",
              " ['RT @manukumarjain: Honoured to be among top 100 #Business leaders in #Asia - @businessinsider. 🙏\\n\\nInspiring to read about all the amazing e…',\n",
              "  'socialkrave_',\n",
              "  'Kolkata, India'],\n",
              " ['RT @manukumarjain: Honoured to be among top 100 #Business leaders in #Asia - @businessinsider. 🙏\\n\\nInspiring to read about all the amazing e…',\n",
              "  'BasetiaSai',\n",
              "  'New Delhi, India'],\n",
              " ['RT @manukumarjain: Honoured to be among top 100 #Business leaders in #Asia - @businessinsider. 🙏\\n\\nInspiring to read about all the amazing e…',\n",
              "  'BGhumnani',\n",
              "  'Ahmadabad City, India'],\n",
              " ['RT @manukumarjain: Honoured to be among top 100 #Business leaders in #Asia - @businessinsider. 🙏\\n\\nInspiring to read about all the amazing e…',\n",
              "  'Sai33056672',\n",
              "  ''],\n",
              " ['RT @manukumarjain: Honoured to be among top 100 #Business leaders in #Asia - @businessinsider. 🙏\\n\\nInspiring to read about all the amazing e…',\n",
              "  'Nandhu04946289',\n",
              "  ''],\n",
              " ['RT @manukumarjain: Honoured to be among top 100 #Business leaders in #Asia - @businessinsider. 🙏\\n\\nInspiring to read about all the amazing e…',\n",
              "  'DINESHGLIFE',\n",
              "  ''],\n",
              " ['RT @manukumarjain: Honoured to be among top 100 #Business leaders in #Asia - @businessinsider. 🙏\\n\\nInspiring to read about all the amazing e…',\n",
              "  'Princefofficial',\n",
              "  '']]"
            ]
          },
          "metadata": {
            "tags": []
          },
          "execution_count": 45
        }
      ]
    },
    {
      "cell_type": "code",
      "metadata": {
        "id": "VGrJMah8vAl4",
        "colab_type": "code",
        "colab": {
          "base_uri": "https://localhost:8080/",
          "height": 419
        },
        "outputId": "731c73b9-be22-42bf-d563-fb75ec52f1c1"
      },
      "source": [
        "tweet_text = pd.DataFrame(data=users_locs, \n",
        "                    columns=['Tweet', 'user', \"location\"])\n",
        "tweet_text"
      ],
      "execution_count": 46,
      "outputs": [
        {
          "output_type": "execute_result",
          "data": {
            "text/html": [
              "<div>\n",
              "<style scoped>\n",
              "    .dataframe tbody tr th:only-of-type {\n",
              "        vertical-align: middle;\n",
              "    }\n",
              "\n",
              "    .dataframe tbody tr th {\n",
              "        vertical-align: top;\n",
              "    }\n",
              "\n",
              "    .dataframe thead th {\n",
              "        text-align: right;\n",
              "    }\n",
              "</style>\n",
              "<table border=\"1\" class=\"dataframe\">\n",
              "  <thead>\n",
              "    <tr style=\"text-align: right;\">\n",
              "      <th></th>\n",
              "      <th>Tweet</th>\n",
              "      <th>user</th>\n",
              "      <th>location</th>\n",
              "    </tr>\n",
              "  </thead>\n",
              "  <tbody>\n",
              "    <tr>\n",
              "      <th>0</th>\n",
              "      <td>RT @stufflistings: Mi True Wireless Earphones ...</td>\n",
              "      <td>VishistPratap</td>\n",
              "      <td>Lucknow, India</td>\n",
              "    </tr>\n",
              "    <tr>\n",
              "      <th>1</th>\n",
              "      <td>Confused between the so many phones, check out...</td>\n",
              "      <td>Mining4Tech</td>\n",
              "      <td>Lucknow</td>\n",
              "    </tr>\n",
              "    <tr>\n",
              "      <th>2</th>\n",
              "      <td>#Mi10Tpro renders \\n\\n#xiaomi #mi #mi10t #mi10...</td>\n",
              "      <td>Mobiledott</td>\n",
              "      <td></td>\n",
              "    </tr>\n",
              "    <tr>\n",
              "      <th>3</th>\n",
              "      <td>Redmi Note 10 leaked render shows this design ...</td>\n",
              "      <td>Phone_infor</td>\n",
              "      <td></td>\n",
              "    </tr>\n",
              "    <tr>\n",
              "      <th>4</th>\n",
              "      <td>Useful!\\n\\n#xiaomi #mitv #mi https://t.co/IQl3...</td>\n",
              "      <td>omiazad</td>\n",
              "      <td>Bangladesh</td>\n",
              "    </tr>\n",
              "    <tr>\n",
              "      <th>...</th>\n",
              "      <td>...</td>\n",
              "      <td>...</td>\n",
              "      <td>...</td>\n",
              "    </tr>\n",
              "    <tr>\n",
              "      <th>95</th>\n",
              "      <td>RT @manukumarjain: Honoured to be among top 10...</td>\n",
              "      <td>BGhumnani</td>\n",
              "      <td>Ahmadabad City, India</td>\n",
              "    </tr>\n",
              "    <tr>\n",
              "      <th>96</th>\n",
              "      <td>RT @manukumarjain: Honoured to be among top 10...</td>\n",
              "      <td>Sai33056672</td>\n",
              "      <td></td>\n",
              "    </tr>\n",
              "    <tr>\n",
              "      <th>97</th>\n",
              "      <td>RT @manukumarjain: Honoured to be among top 10...</td>\n",
              "      <td>Nandhu04946289</td>\n",
              "      <td></td>\n",
              "    </tr>\n",
              "    <tr>\n",
              "      <th>98</th>\n",
              "      <td>RT @manukumarjain: Honoured to be among top 10...</td>\n",
              "      <td>DINESHGLIFE</td>\n",
              "      <td></td>\n",
              "    </tr>\n",
              "    <tr>\n",
              "      <th>99</th>\n",
              "      <td>RT @manukumarjain: Honoured to be among top 10...</td>\n",
              "      <td>Princefofficial</td>\n",
              "      <td></td>\n",
              "    </tr>\n",
              "  </tbody>\n",
              "</table>\n",
              "<p>100 rows × 3 columns</p>\n",
              "</div>"
            ],
            "text/plain": [
              "                                                Tweet  ...               location\n",
              "0   RT @stufflistings: Mi True Wireless Earphones ...  ...         Lucknow, India\n",
              "1   Confused between the so many phones, check out...  ...                Lucknow\n",
              "2   #Mi10Tpro renders \\n\\n#xiaomi #mi #mi10t #mi10...  ...                       \n",
              "3   Redmi Note 10 leaked render shows this design ...  ...                       \n",
              "4   Useful!\\n\\n#xiaomi #mitv #mi https://t.co/IQl3...  ...             Bangladesh\n",
              "..                                                ...  ...                    ...\n",
              "95  RT @manukumarjain: Honoured to be among top 10...  ...  Ahmadabad City, India\n",
              "96  RT @manukumarjain: Honoured to be among top 10...  ...                       \n",
              "97  RT @manukumarjain: Honoured to be among top 10...  ...                       \n",
              "98  RT @manukumarjain: Honoured to be among top 10...  ...                       \n",
              "99  RT @manukumarjain: Honoured to be among top 10...  ...                       \n",
              "\n",
              "[100 rows x 3 columns]"
            ]
          },
          "metadata": {
            "tags": []
          },
          "execution_count": 46
        }
      ]
    },
    {
      "cell_type": "code",
      "metadata": {
        "id": "iISldF1B3Du9",
        "colab_type": "code",
        "colab": {
          "base_uri": "https://localhost:8080/",
          "height": 34
        },
        "outputId": "7aef227f-cd62-4061-977b-162f7a163378"
      },
      "source": [
        "tweet_text.shape"
      ],
      "execution_count": 47,
      "outputs": [
        {
          "output_type": "execute_result",
          "data": {
            "text/plain": [
              "(100, 3)"
            ]
          },
          "metadata": {
            "tags": []
          },
          "execution_count": 47
        }
      ]
    },
    {
      "cell_type": "code",
      "metadata": {
        "id": "IvCHzrQ72ATn",
        "colab_type": "code",
        "colab": {}
      },
      "source": [
        "tweet_text.to_csv(\"Twitter Data.csv\",index=False)"
      ],
      "execution_count": 48,
      "outputs": []
    },
    {
      "cell_type": "code",
      "metadata": {
        "id": "m99eck5I2Mr-",
        "colab_type": "code",
        "colab": {}
      },
      "source": [
        ""
      ],
      "execution_count": null,
      "outputs": []
    }
  ]
}